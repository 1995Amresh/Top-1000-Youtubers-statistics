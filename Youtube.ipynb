{
 "cells": [
  {
   "cell_type": "code",
   "execution_count": 49,
   "id": "5ce3ecbc",
   "metadata": {},
   "outputs": [],
   "source": [
    "import pandas as pd\n",
    "import numpy as np\n",
    "import matplotlib.pyplot as plt\n",
    "import seaborn as sns"
   ]
  },
  {
   "cell_type": "code",
   "execution_count": 50,
   "id": "da929493",
   "metadata": {},
   "outputs": [
    {
     "data": {
      "text/html": [
       "<div>\n",
       "<style scoped>\n",
       "    .dataframe tbody tr th:only-of-type {\n",
       "        vertical-align: middle;\n",
       "    }\n",
       "\n",
       "    .dataframe tbody tr th {\n",
       "        vertical-align: top;\n",
       "    }\n",
       "\n",
       "    .dataframe thead th {\n",
       "        text-align: right;\n",
       "    }\n",
       "</style>\n",
       "<table border=\"1\" class=\"dataframe\">\n",
       "  <thead>\n",
       "    <tr style=\"text-align: right;\">\n",
       "      <th></th>\n",
       "      <th>Rank</th>\n",
       "      <th>Username</th>\n",
       "      <th>Categories</th>\n",
       "      <th>Suscribers</th>\n",
       "      <th>Country</th>\n",
       "      <th>Visits</th>\n",
       "      <th>Likes</th>\n",
       "      <th>Comments</th>\n",
       "      <th>Links</th>\n",
       "    </tr>\n",
       "  </thead>\n",
       "  <tbody>\n",
       "    <tr>\n",
       "      <th>0</th>\n",
       "      <td>1</td>\n",
       "      <td>tseries</td>\n",
       "      <td>Entertainment</td>\n",
       "      <td>249500000</td>\n",
       "      <td>IN</td>\n",
       "      <td>86200</td>\n",
       "      <td>2700</td>\n",
       "      <td>78</td>\n",
       "      <td>http://youtube.com/channel/UCq-Fj5jknLsUf-MWSy...</td>\n",
       "    </tr>\n",
       "    <tr>\n",
       "      <th>1</th>\n",
       "      <td>2</td>\n",
       "      <td>MrBeast</td>\n",
       "      <td>Entertainment</td>\n",
       "      <td>183500000</td>\n",
       "      <td>US</td>\n",
       "      <td>117400000</td>\n",
       "      <td>5300000</td>\n",
       "      <td>18500</td>\n",
       "      <td>http://youtube.com/channel/UCX6OQ3DkcsbYNE6H8u...</td>\n",
       "    </tr>\n",
       "    <tr>\n",
       "      <th>2</th>\n",
       "      <td>3</td>\n",
       "      <td>CoComelon</td>\n",
       "      <td>Music</td>\n",
       "      <td>165500000</td>\n",
       "      <td>US</td>\n",
       "      <td>7000000</td>\n",
       "      <td>24700</td>\n",
       "      <td>0</td>\n",
       "      <td>http://youtube.com/channel/UCbCmjCuTUZos6Inko4...</td>\n",
       "    </tr>\n",
       "    <tr>\n",
       "      <th>3</th>\n",
       "      <td>4</td>\n",
       "      <td>SETIndia</td>\n",
       "      <td>Entertainment</td>\n",
       "      <td>162600000</td>\n",
       "      <td>IN</td>\n",
       "      <td>15600</td>\n",
       "      <td>166</td>\n",
       "      <td>9</td>\n",
       "      <td>http://youtube.com/channel/UCpEhnqL0y41EpW2TvW...</td>\n",
       "    </tr>\n",
       "    <tr>\n",
       "      <th>4</th>\n",
       "      <td>5</td>\n",
       "      <td>KidsDianaShow</td>\n",
       "      <td>Hobby</td>\n",
       "      <td>113500000</td>\n",
       "      <td>US</td>\n",
       "      <td>3900000</td>\n",
       "      <td>12400</td>\n",
       "      <td>0</td>\n",
       "      <td>http://youtube.com/channel/UCk8GzjMOrta8yxDcKf...</td>\n",
       "    </tr>\n",
       "  </tbody>\n",
       "</table>\n",
       "</div>"
      ],
      "text/plain": [
       "   Rank       Username     Categories  Suscribers Country     Visits    Likes  \\\n",
       "0     1        tseries  Entertainment   249500000      IN      86200     2700   \n",
       "1     2        MrBeast  Entertainment   183500000      US  117400000  5300000   \n",
       "2     3      CoComelon          Music   165500000      US    7000000    24700   \n",
       "3     4       SETIndia  Entertainment   162600000      IN      15600      166   \n",
       "4     5  KidsDianaShow          Hobby   113500000      US    3900000    12400   \n",
       "\n",
       "   Comments                                              Links  \n",
       "0        78  http://youtube.com/channel/UCq-Fj5jknLsUf-MWSy...  \n",
       "1     18500  http://youtube.com/channel/UCX6OQ3DkcsbYNE6H8u...  \n",
       "2         0  http://youtube.com/channel/UCbCmjCuTUZos6Inko4...  \n",
       "3         9  http://youtube.com/channel/UCpEhnqL0y41EpW2TvW...  \n",
       "4         0  http://youtube.com/channel/UCk8GzjMOrta8yxDcKf...  "
      ]
     },
     "execution_count": 50,
     "metadata": {},
     "output_type": "execute_result"
    }
   ],
   "source": [
    "yt = pd.read_csv('youtubers_df.csv')\n",
    "yt.head()"
   ]
  },
  {
   "cell_type": "code",
   "execution_count": 51,
   "id": "f3023fac",
   "metadata": {},
   "outputs": [
    {
     "data": {
      "text/html": [
       "<div>\n",
       "<style scoped>\n",
       "    .dataframe tbody tr th:only-of-type {\n",
       "        vertical-align: middle;\n",
       "    }\n",
       "\n",
       "    .dataframe tbody tr th {\n",
       "        vertical-align: top;\n",
       "    }\n",
       "\n",
       "    .dataframe thead th {\n",
       "        text-align: right;\n",
       "    }\n",
       "</style>\n",
       "<table border=\"1\" class=\"dataframe\">\n",
       "  <thead>\n",
       "    <tr style=\"text-align: right;\">\n",
       "      <th></th>\n",
       "      <th>Rank</th>\n",
       "      <th>Suscribers</th>\n",
       "      <th>Visits</th>\n",
       "      <th>Likes</th>\n",
       "      <th>Comments</th>\n",
       "    </tr>\n",
       "  </thead>\n",
       "  <tbody>\n",
       "    <tr>\n",
       "      <th>count</th>\n",
       "      <td>1000.000000</td>\n",
       "      <td>1.000000e+03</td>\n",
       "      <td>1.000000e+03</td>\n",
       "      <td>1.000000e+03</td>\n",
       "      <td>1000.000000</td>\n",
       "    </tr>\n",
       "    <tr>\n",
       "      <th>mean</th>\n",
       "      <td>500.500000</td>\n",
       "      <td>2.199870e+07</td>\n",
       "      <td>1.208789e+06</td>\n",
       "      <td>5.360307e+04</td>\n",
       "      <td>1287.732000</td>\n",
       "    </tr>\n",
       "    <tr>\n",
       "      <th>std</th>\n",
       "      <td>288.819436</td>\n",
       "      <td>1.686848e+07</td>\n",
       "      <td>5.230081e+06</td>\n",
       "      <td>2.580510e+05</td>\n",
       "      <td>6778.344022</td>\n",
       "    </tr>\n",
       "    <tr>\n",
       "      <th>min</th>\n",
       "      <td>1.000000</td>\n",
       "      <td>1.170000e+07</td>\n",
       "      <td>0.000000e+00</td>\n",
       "      <td>0.000000e+00</td>\n",
       "      <td>0.000000</td>\n",
       "    </tr>\n",
       "    <tr>\n",
       "      <th>25%</th>\n",
       "      <td>250.750000</td>\n",
       "      <td>1.380000e+07</td>\n",
       "      <td>2.942500e+04</td>\n",
       "      <td>4.400000e+02</td>\n",
       "      <td>2.000000</td>\n",
       "    </tr>\n",
       "    <tr>\n",
       "      <th>50%</th>\n",
       "      <td>500.500000</td>\n",
       "      <td>1.680000e+07</td>\n",
       "      <td>1.739500e+05</td>\n",
       "      <td>3.500000e+03</td>\n",
       "      <td>64.500000</td>\n",
       "    </tr>\n",
       "    <tr>\n",
       "      <th>75%</th>\n",
       "      <td>750.250000</td>\n",
       "      <td>2.382500e+07</td>\n",
       "      <td>8.654750e+05</td>\n",
       "      <td>2.865000e+04</td>\n",
       "      <td>470.500000</td>\n",
       "    </tr>\n",
       "    <tr>\n",
       "      <th>max</th>\n",
       "      <td>1000.000000</td>\n",
       "      <td>2.495000e+08</td>\n",
       "      <td>1.174000e+08</td>\n",
       "      <td>5.300000e+06</td>\n",
       "      <td>154000.000000</td>\n",
       "    </tr>\n",
       "  </tbody>\n",
       "</table>\n",
       "</div>"
      ],
      "text/plain": [
       "              Rank    Suscribers        Visits         Likes       Comments\n",
       "count  1000.000000  1.000000e+03  1.000000e+03  1.000000e+03    1000.000000\n",
       "mean    500.500000  2.199870e+07  1.208789e+06  5.360307e+04    1287.732000\n",
       "std     288.819436  1.686848e+07  5.230081e+06  2.580510e+05    6778.344022\n",
       "min       1.000000  1.170000e+07  0.000000e+00  0.000000e+00       0.000000\n",
       "25%     250.750000  1.380000e+07  2.942500e+04  4.400000e+02       2.000000\n",
       "50%     500.500000  1.680000e+07  1.739500e+05  3.500000e+03      64.500000\n",
       "75%     750.250000  2.382500e+07  8.654750e+05  2.865000e+04     470.500000\n",
       "max    1000.000000  2.495000e+08  1.174000e+08  5.300000e+06  154000.000000"
      ]
     },
     "execution_count": 51,
     "metadata": {},
     "output_type": "execute_result"
    }
   ],
   "source": [
    "yt.describe()"
   ]
  },
  {
   "cell_type": "code",
   "execution_count": 52,
   "id": "d5c469dc",
   "metadata": {},
   "outputs": [
    {
     "name": "stdout",
     "output_type": "stream",
     "text": [
      "<class 'pandas.core.frame.DataFrame'>\n",
      "RangeIndex: 1000 entries, 0 to 999\n",
      "Data columns (total 9 columns):\n",
      " #   Column      Non-Null Count  Dtype \n",
      "---  ------      --------------  ----- \n",
      " 0   Rank        1000 non-null   int64 \n",
      " 1   Username    1000 non-null   object\n",
      " 2   Categories  1000 non-null   object\n",
      " 3   Suscribers  1000 non-null   int64 \n",
      " 4   Country     1000 non-null   object\n",
      " 5   Visits      1000 non-null   int64 \n",
      " 6   Likes       1000 non-null   int64 \n",
      " 7   Comments    1000 non-null   int64 \n",
      " 8   Links       1000 non-null   object\n",
      "dtypes: int64(5), object(4)\n",
      "memory usage: 70.4+ KB\n"
     ]
    }
   ],
   "source": [
    "yt.info()"
   ]
  },
  {
   "cell_type": "code",
   "execution_count": 53,
   "id": "6ab98432",
   "metadata": {},
   "outputs": [
    {
     "data": {
      "text/plain": [
       "(1000, 9)"
      ]
     },
     "execution_count": 53,
     "metadata": {},
     "output_type": "execute_result"
    }
   ],
   "source": [
    "yt.shape"
   ]
  },
  {
   "cell_type": "code",
   "execution_count": 54,
   "id": "11b90303",
   "metadata": {},
   "outputs": [
    {
     "data": {
      "text/plain": [
       "Rank          0\n",
       "Username      0\n",
       "Categories    0\n",
       "Suscribers    0\n",
       "Country       0\n",
       "Visits        0\n",
       "Likes         0\n",
       "Comments      0\n",
       "Links         0\n",
       "dtype: int64"
      ]
     },
     "execution_count": 54,
     "metadata": {},
     "output_type": "execute_result"
    }
   ],
   "source": [
    "yt.isnull().sum()"
   ]
  },
  {
   "cell_type": "code",
   "execution_count": 55,
   "id": "eeb177b7",
   "metadata": {},
   "outputs": [],
   "source": [
    "max_subcribers = yt[yt['Suscribers']==yt['Suscribers'].max()]"
   ]
  },
  {
   "cell_type": "code",
   "execution_count": 56,
   "id": "b45c4879",
   "metadata": {},
   "outputs": [
    {
     "data": {
      "text/html": [
       "<div>\n",
       "<style scoped>\n",
       "    .dataframe tbody tr th:only-of-type {\n",
       "        vertical-align: middle;\n",
       "    }\n",
       "\n",
       "    .dataframe tbody tr th {\n",
       "        vertical-align: top;\n",
       "    }\n",
       "\n",
       "    .dataframe thead th {\n",
       "        text-align: right;\n",
       "    }\n",
       "</style>\n",
       "<table border=\"1\" class=\"dataframe\">\n",
       "  <thead>\n",
       "    <tr style=\"text-align: right;\">\n",
       "      <th></th>\n",
       "      <th>Rank</th>\n",
       "      <th>Username</th>\n",
       "      <th>Categories</th>\n",
       "      <th>Suscribers</th>\n",
       "      <th>Country</th>\n",
       "      <th>Visits</th>\n",
       "      <th>Likes</th>\n",
       "      <th>Comments</th>\n",
       "      <th>Links</th>\n",
       "    </tr>\n",
       "  </thead>\n",
       "  <tbody>\n",
       "    <tr>\n",
       "      <th>0</th>\n",
       "      <td>1</td>\n",
       "      <td>tseries</td>\n",
       "      <td>Entertainment</td>\n",
       "      <td>249500000</td>\n",
       "      <td>IN</td>\n",
       "      <td>86200</td>\n",
       "      <td>2700</td>\n",
       "      <td>78</td>\n",
       "      <td>http://youtube.com/channel/UCq-Fj5jknLsUf-MWSy...</td>\n",
       "    </tr>\n",
       "  </tbody>\n",
       "</table>\n",
       "</div>"
      ],
      "text/plain": [
       "   Rank Username     Categories  Suscribers Country  Visits  Likes  Comments  \\\n",
       "0     1  tseries  Entertainment   249500000      IN   86200   2700        78   \n",
       "\n",
       "                                               Links  \n",
       "0  http://youtube.com/channel/UCq-Fj5jknLsUf-MWSy...  "
      ]
     },
     "execution_count": 56,
     "metadata": {},
     "output_type": "execute_result"
    }
   ],
   "source": [
    "max_subcribers.head()"
   ]
  },
  {
   "cell_type": "markdown",
   "id": "e9c1f106",
   "metadata": {},
   "source": []
  },
  {
   "cell_type": "code",
   "execution_count": 57,
   "id": "7921b204",
   "metadata": {},
   "outputs": [
    {
     "data": {
      "text/html": [
       "<div>\n",
       "<style scoped>\n",
       "    .dataframe tbody tr th:only-of-type {\n",
       "        vertical-align: middle;\n",
       "    }\n",
       "\n",
       "    .dataframe tbody tr th {\n",
       "        vertical-align: top;\n",
       "    }\n",
       "\n",
       "    .dataframe thead th {\n",
       "        text-align: right;\n",
       "    }\n",
       "</style>\n",
       "<table border=\"1\" class=\"dataframe\">\n",
       "  <thead>\n",
       "    <tr style=\"text-align: right;\">\n",
       "      <th></th>\n",
       "      <th>Rank</th>\n",
       "      <th>Username</th>\n",
       "      <th>Categories</th>\n",
       "      <th>Suscribers</th>\n",
       "      <th>Country</th>\n",
       "      <th>Visits</th>\n",
       "      <th>Likes</th>\n",
       "      <th>Comments</th>\n",
       "      <th>Links</th>\n",
       "    </tr>\n",
       "  </thead>\n",
       "  <tbody>\n",
       "    <tr>\n",
       "      <th>986</th>\n",
       "      <td>987</td>\n",
       "      <td>cute.shivani.05</td>\n",
       "      <td>Music</td>\n",
       "      <td>11700000</td>\n",
       "      <td>IN</td>\n",
       "      <td>2100000</td>\n",
       "      <td>0</td>\n",
       "      <td>959</td>\n",
       "      <td>http://youtube.com/channel/UCLEJtcaMQePVD5N8VD...</td>\n",
       "    </tr>\n",
       "    <tr>\n",
       "      <th>987</th>\n",
       "      <td>988</td>\n",
       "      <td>NFL</td>\n",
       "      <td>Sport</td>\n",
       "      <td>11700000</td>\n",
       "      <td>US</td>\n",
       "      <td>21400</td>\n",
       "      <td>692</td>\n",
       "      <td>42</td>\n",
       "      <td>http://youtube.com/channel/UCDVYQ4Zhbm3S2dlz7P...</td>\n",
       "    </tr>\n",
       "    <tr>\n",
       "      <th>988</th>\n",
       "      <td>989</td>\n",
       "      <td>MykeTowers</td>\n",
       "      <td>Music_of_Latin_America</td>\n",
       "      <td>11700000</td>\n",
       "      <td>US</td>\n",
       "      <td>11000</td>\n",
       "      <td>629</td>\n",
       "      <td>18</td>\n",
       "      <td>http://youtube.com/channel/UCLk8IJ1TwI7Xl7UUfA...</td>\n",
       "    </tr>\n",
       "    <tr>\n",
       "      <th>989</th>\n",
       "      <td>990</td>\n",
       "      <td>cut</td>\n",
       "      <td>Film</td>\n",
       "      <td>11700000</td>\n",
       "      <td>US</td>\n",
       "      <td>359000</td>\n",
       "      <td>8800</td>\n",
       "      <td>342</td>\n",
       "      <td>http://youtube.com/channel/UCbaGn5VkOVlcRgIWAH...</td>\n",
       "    </tr>\n",
       "    <tr>\n",
       "      <th>990</th>\n",
       "      <td>991</td>\n",
       "      <td>JoeHattab</td>\n",
       "      <td>Society</td>\n",
       "      <td>11700000</td>\n",
       "      <td>AE</td>\n",
       "      <td>1900000</td>\n",
       "      <td>98500</td>\n",
       "      <td>2900</td>\n",
       "      <td>http://youtube.com/channel/UCe6eisvsctSPvBhmin...</td>\n",
       "    </tr>\n",
       "  </tbody>\n",
       "</table>\n",
       "</div>"
      ],
      "text/plain": [
       "     Rank         Username              Categories  Suscribers Country  \\\n",
       "986   987  cute.shivani.05                   Music    11700000      IN   \n",
       "987   988              NFL                   Sport    11700000      US   \n",
       "988   989       MykeTowers  Music_of_Latin_America    11700000      US   \n",
       "989   990              cut                    Film    11700000      US   \n",
       "990   991        JoeHattab                 Society    11700000      AE   \n",
       "\n",
       "      Visits  Likes  Comments  \\\n",
       "986  2100000      0       959   \n",
       "987    21400    692        42   \n",
       "988    11000    629        18   \n",
       "989   359000   8800       342   \n",
       "990  1900000  98500      2900   \n",
       "\n",
       "                                                 Links  \n",
       "986  http://youtube.com/channel/UCLEJtcaMQePVD5N8VD...  \n",
       "987  http://youtube.com/channel/UCDVYQ4Zhbm3S2dlz7P...  \n",
       "988  http://youtube.com/channel/UCLk8IJ1TwI7Xl7UUfA...  \n",
       "989  http://youtube.com/channel/UCbaGn5VkOVlcRgIWAH...  \n",
       "990  http://youtube.com/channel/UCe6eisvsctSPvBhmin...  "
      ]
     },
     "execution_count": 57,
     "metadata": {},
     "output_type": "execute_result"
    }
   ],
   "source": [
    "min_subcribers= yt[yt['Suscribers']==yt['Suscribers'].min()]\n",
    "min_subcribers.head()"
   ]
  },
  {
   "cell_type": "code",
   "execution_count": 65,
   "id": "e191c882",
   "metadata": {},
   "outputs": [
    {
     "name": "stdout",
     "output_type": "stream",
     "text": [
      "The most popular category in terms of suscribers is :Entertainment\n",
      "The most popular category in term of Visits is :Entertainment\n",
      "The most popular category in term of Likes is :Entertainment\n",
      "Number of Channels in each category\n",
      "Entertainment              211\n",
      "Lifestyle_(sociology)      201\n",
      "Film                       108\n",
      "Music                       94\n",
      "Hobby                       42\n",
      "Television_program          38\n",
      "Society                     37\n",
      "Video_game_culture          32\n",
      "Pop_music                   28\n",
      "Action_game                 26\n",
      "Music_of_Asia               26\n",
      "Action-adventure_game       22\n",
      "Food                        21\n",
      "Hip_hop_music               20\n",
      "Technology                  12\n",
      "Electronic_music            10\n",
      "Role-playing_video_game     10\n",
      "Knowledge                    8\n",
      "Politics                     7\n",
      "Music_of_Latin_America       6\n",
      "Humour                       5\n",
      "Rock_music                   4\n",
      "News                         4\n",
      "Performing_arts              3\n",
      "Sport                        3\n",
      "Strategy_video_game          3\n",
      "Religion                     2\n",
      "Physical_fitness             2\n",
      "Pet                          2\n",
      "Association_football         2\n",
      "Health                       2\n",
      "Vehicle                      2\n",
      "Tourism                      1\n",
      "Sports_game                  1\n",
      "Mixed_martial_arts           1\n",
      "Christian_music              1\n",
      "Independent_music            1\n",
      "Puzzle_video_game            1\n",
      "Soul_music                   1\n",
      "Name: Categories, dtype: int64\n"
     ]
    },
    {
     "name": "stderr",
     "output_type": "stream",
     "text": [
      "C:\\Users\\HP\\AppData\\Local\\Temp\\ipykernel_3472\\3079168121.py:3: FutureWarning: Indexing with multiple keys (implicitly converted to a tuple of keys) will be deprecated, use a list instead.\n",
      "  category_yt = yt.groupby('Categories')['Suscribers', 'Visits', 'Likes'].sum()\n"
     ]
    }
   ],
   "source": [
    "# Group the data by 'Categories' and calculate the sum of 'Suscribers', 'Visits', 'Likes' for each category\n",
    "\n",
    "category_yt = yt.groupby('Categories')['Suscribers', 'Visits', 'Likes'].sum()\n",
    "\n",
    "# Find out which category is most popular in terms of subscriber count, visits, likes\n",
    "\n",
    "most_popular_category_suscribers = category_yt['Suscribers'].idxmax()\n",
    "most_popular_category_visits = category_yt['Visits'].idxmax()\n",
    "most_popular_category_likes = category_yt['Likes'].idxmax()\n",
    "\n",
    "print(f\"The most popular category in terms of suscribers is :{most_popular_category_suscribers}\")\n",
    "print(f\"The most popular category in term of Visits is :{most_popular_category_visits}\")\n",
    "print(f\"The most popular category in term of Likes is :{most_popular_category_likes}\")\n",
    "category_counts = yt['Categories'].value_counts()\n",
    "print(\"Number of Channels in each category\")\n",
    "print(category_counts)"
   ]
  },
  {
   "cell_type": "code",
   "execution_count": 67,
   "id": "6f1e68f8",
   "metadata": {},
   "outputs": [
    {
     "name": "stdout",
     "output_type": "stream",
     "text": [
      "The most popular country in terms of suscribers is:US\n",
      "The most popular country in terms of Visits is:US\n",
      "The most popular country in terms of Likes is:US\n",
      "Number of channels from each country: \n",
      "US    321\n",
      "IN    237\n",
      "BR     72\n",
      "MX     40\n",
      "ID     35\n",
      "GB     33\n",
      "KR     25\n",
      "ES     23\n",
      "RU     20\n",
      "TH     19\n",
      "AR     14\n",
      "CA     13\n",
      "CO     13\n",
      "PH     12\n",
      "AE      9\n",
      "PK      9\n",
      "SA      9\n",
      "JP      7\n",
      "DE      7\n",
      "TR      7\n",
      "NL      6\n",
      "AU      6\n",
      "UA      6\n",
      "SE      5\n",
      "FR      4\n",
      "PR      4\n",
      "EG      4\n",
      "FI      3\n",
      "EC      3\n",
      "JO      3\n",
      "CL      3\n",
      "SV      2\n",
      "IT      2\n",
      "IE      2\n",
      "VN      2\n",
      "BD      2\n",
      "BY      2\n",
      "QA      1\n",
      "SI      1\n",
      "IL      1\n",
      "PT      1\n",
      "HK      1\n",
      "AT      1\n",
      "PE      1\n",
      "KW      1\n",
      "IQ      1\n",
      "MY      1\n",
      "CH      1\n",
      "LV      1\n",
      "SG      1\n",
      "NO      1\n",
      "CY      1\n",
      "DZ      1\n",
      "Name: Country, dtype: int64\n"
     ]
    },
    {
     "name": "stderr",
     "output_type": "stream",
     "text": [
      "C:\\Users\\HP\\AppData\\Local\\Temp\\ipykernel_3472\\2244690987.py:3: FutureWarning: Indexing with multiple keys (implicitly converted to a tuple of keys) will be deprecated, use a list instead.\n",
      "  country_yt = yt.groupby('Country')['Suscribers', 'Visits', 'Likes'].sum()\n"
     ]
    }
   ],
   "source": [
    "# Group the data by 'Country' and calculate the sum of 'Suscribers', 'Visits', 'Likes' for each country\n",
    "\n",
    "country_yt = yt.groupby('Country')['Suscribers', 'Visits', 'Likes'].sum()\n",
    "\n",
    "# Find out which country is most popular in terms of suscriber count, visits and likes\n",
    "most_popular_country_suscribers = country_yt['Suscribers'].idxmax()\n",
    "most_popular_country_visits = country_yt['Visits'].idxmax()\n",
    "most_popular_country_likes = country_yt['Likes'].idxmax()\n",
    "\n",
    "print(f\"The most popular country in terms of suscribers is:{most_popular_country_suscribers}\")\n",
    "print(f\"The most popular country in terms of Visits is:{most_popular_country_visits}\")\n",
    "print(f\"The most popular country in terms of Likes is:{most_popular_country_likes}\")\n",
    "\n",
    "# Count how many channels are from each country\n",
    "country_counts = yt['Country'].value_counts()\n",
    "print(\"Number of channels from each country: \")\n",
    "print(country_counts)"
   ]
  },
  {
   "cell_type": "code",
   "execution_count": 70,
   "id": "72bfe443",
   "metadata": {},
   "outputs": [
    {
     "name": "stdout",
     "output_type": "stream",
     "text": [
      "The channel with the most engagement is: MrBeast\n"
     ]
    }
   ],
   "source": [
    "# Calculate an engagment metric as the sum of Visits likes and comments\n",
    "\n",
    "yt['Engagement'] = yt['Visits']+yt[\"Likes\"]+yt['Comments']\n",
    "\n",
    "# Find out which channel has the most engagement\n",
    "\n",
    "most_engaged_channel = yt[yt['Engagement']==yt['Engagement'].max()]['Username'].values[0]\n",
    "print(f\"The channel with the most engagement is: {most_engaged_channel}\")                                                                    "
   ]
  },
  {
   "cell_type": "code",
   "execution_count": 71,
   "id": "c0dddd84",
   "metadata": {},
   "outputs": [
    {
     "name": "stdout",
     "output_type": "stream",
     "text": [
      "            Suscribers    Visits     Likes\n",
      "Suscribers    1.000000  0.243221  0.209873\n",
      "Visits        0.243221  1.000000  0.950472\n",
      "Likes         0.209873  0.950472  1.000000\n"
     ]
    }
   ],
   "source": [
    "# Calculating the correlation matrix\n",
    "\n",
    "correlation_matrix = yt[['Suscribers','Visits','Likes']].corr()\n",
    "print(correlation_matrix)"
   ]
  },
  {
   "cell_type": "code",
   "execution_count": 73,
   "id": "44d65e09",
   "metadata": {},
   "outputs": [
    {
     "data": {
      "image/png": "[encoded data removed]",
      "text/plain": [
       "<Figure size 640x480 with 2 Axes>"
      ]
     },
     "metadata": {},
     "output_type": "display_data"
    }
   ],
   "source": [
    "sns.heatmap(yt[['Suscribers', 'Visits', 'Likes']].corr(), annot=True, cmap='coolwarm')\n",
    "plt.title(\"Heatmap\")\n",
    "plt.show()"
   ]
  },
  {
   "cell_type": "code",
   "execution_count": null,
   "id": "67a19b19",
   "metadata": {},
   "outputs": [],
   "source": []
  }
 ],
 "metadata": {
  "kernelspec": {
   "display_name": "Python 3 (ipykernel)",
   "language": "python",
   "name": "python3"
  },
  "language_info": {
   "codemirror_mode": {
    "name": "ipython",
    "version": 3
   },
   "file_extension": ".py",
   "mimetype": "text/x-python",
   "name": "python",
   "nbconvert_exporter": "python",
   "pygments_lexer": "ipython3",
   "version": "3.9.13"
  }
 },
 "nbformat": 4,
 "nbformat_minor": 5
}
